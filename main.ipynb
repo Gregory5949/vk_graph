{
 "cells": [
  {
   "cell_type": "code",
   "execution_count": 1,
   "metadata": {
    "ExecuteTime": {
     "end_time": "2023-05-20T19:50:01.062342Z",
     "start_time": "2023-05-20T19:50:01.056766800Z"
    },
    "collapsed": false,
    "jupyter": {
     "outputs_hidden": false
    },
    "pycharm": {
     "name": "#%%\n"
    }
   },
   "outputs": [],
   "source": [
    "import pandas as pd\n",
    "import networkx as nx\n",
    "from tqdm import tqdm\n",
    "from sklearn.linear_model import LinearRegression"
   ]
  },
  {
   "cell_type": "code",
   "execution_count": 2,
   "metadata": {
    "ExecuteTime": {
     "end_time": "2023-05-20T20:53:50.734310200Z",
     "start_time": "2023-05-20T20:53:35.091678300Z"
    },
    "collapsed": false,
    "jupyter": {
     "outputs_hidden": false
    }
   },
   "outputs": [
    {
     "name": "stderr",
     "output_type": "stream",
     "text": [
      "100%|██████████████████████████████| 3312167/3312167 [02:02<00:00, 26979.82it/s]\n",
      "100%|████████████████████████████| 39763717/39763717 [17:55<00:00, 36968.17it/s]\n"
     ]
    }
   ],
   "source": [
    "# Чтение CSV-файла и создание графа\n",
    "n=20000\n",
    "df = pd.read_csv(f'train_attr_{n}.csv')\n",
    "G = nx.Graph()\n",
    "for i, row in tqdm(df.iterrows(), total=df.shape[0]):\n",
    "    node_id = str(row['ego_id']) + '.' + str(row['u'])\n",
    "    G.add_node(node_id, name=node_id,\n",
    "               features=[int(row['age']), int(row['city_id']), int(row['sex']), int(row['school']), int(row['university']),\n",
    "                         int(row['cnt_2']), int(row['cnt_1']), float(row['sex_rel_freq_1']),\n",
    "                         float(row['sex_rel_freq_2']), int(row['cat_age']),\n",
    "                         float(row['city_rel_freq']), float(row['school_rel_freq']),\n",
    "                         float(row['uni_rel_freq'])])\n",
    "\n",
    "# Создание ребер\n",
    "df = pd.read_csv(f'train_{n}.csv', dtype={\"ego_id\":\"int64\", \"u\":\"int16\", \"v\":\"int16\", \"t\":\"float\", \"x1\":\"float\", \"x2\":\"float\", \"x3\":\"int16\"})\n",
    "for i, row in tqdm(df.iterrows(), total=df.shape[0]):\n",
    "    p1_id = str(int(row['ego_id'])) + '.' + str(int(row['u']))\n",
    "    p2_id = str(int(row['ego_id'])) + '.' + str(int(row['v']))\n",
    "    G.add_edge(p1_id, p2_id, became_when=float(row['t']), x1=float(row['x1']),\n",
    "               x2=float(row['x2']), x3=float(row['x3']))"
   ]
  },
  {
   "cell_type": "code",
   "execution_count": 3,
   "metadata": {
    "ExecuteTime": {
     "end_time": "2023-05-20T20:44:26.444177900Z",
     "start_time": "2023-05-20T19:50:18.293660300Z"
    },
    "collapsed": false,
    "jupyter": {
     "outputs_hidden": false
    },
    "pycharm": {
     "name": "#%%\n"
    }
   },
   "outputs": [
    {
     "name": "stderr",
     "output_type": "stream",
     "text": [
      "100%|██████████████████████████████| 3406055/3406055 [04:23<00:00, 12926.88it/s]\n",
      "100%|████████████████████████████| 40548780/40548780 [34:05<00:00, 19822.83it/s]\n"
     ]
    }
   ],
   "source": [
    "df = pd.read_csv('test_attr_full.csv')\n",
    "G1 = nx.Graph()\n",
    "for i, row in tqdm(df.iterrows(), total=df.shape[0]):\n",
    "    node_id = str(row['ego_id']) + '.' + str(row['u'])\n",
    "    G1.add_node(node_id, name=node_id,\n",
    "                features=[int(row['age']), int(row['city_id']), int(row['sex']), int(row['school']), int(row['university']),\n",
    "                          int(row['cnt_2']), int(row['cnt_1']), float(row['sex_rel_freq_1']),\n",
    "                          float(row['sex_rel_freq_2']), int(row['cat_age']),\n",
    "                          float(row['city_rel_freq']), float(row['school_rel_freq']),\n",
    "                          float(row['uni_rel_freq'])])\n",
    "    \n",
    "# Создание ребер\n",
    "df = pd.read_csv('test.csv', dtype={\"ego_id\":\"int64\", \"u\":\"int16\", \"v\":\"int16\", \"t\":\"float\", \"x1\":\"float\", \"x2\":\"float\", \"x3\":\"int16\"})\n",
    "for i, row in tqdm(df.iterrows(), total=df.shape[0]):\n",
    "    p1_id = str(int(row['ego_id'])) + '.' + str(int(row['u']))\n",
    "    p2_id = str(int(row['ego_id'])) + '.' + str(int(row['v']))\n",
    "    G1.add_edge(p1_id, p2_id, became_when=float(row['t']), x1=float(row['x1']),\n",
    "                x2=float(row['x2']), x3=float(row['x3']))"
   ]
  },
  {
   "cell_type": "code",
   "execution_count": 5,
   "metadata": {
    "ExecuteTime": {
     "end_time": "2023-05-20T21:03:16.865978600Z",
     "start_time": "2023-05-20T21:03:16.841115100Z"
    },
    "collapsed": false,
    "jupyter": {
     "outputs_hidden": false
    }
   },
   "outputs": [],
   "source": [
    "import catboost\n",
    "import numpy as np\n",
    "from sklearn.model_selection import train_test_split\n",
    "from sklearn.linear_model import  LinearRegression, SGDRegressor\n",
    "from sklearn.ensemble import RandomForestRegressor\n",
    "import implicit"
   ]
  },
  {
   "cell_type": "code",
   "execution_count": null,
   "metadata": {
    "ExecuteTime": {
     "end_time": "2023-05-20T21:37:21.957651900Z",
     "start_time": "2023-05-20T21:36:20.320651Z"
    },
    "collapsed": false,
    "jupyter": {
     "outputs_hidden": false
    }
   },
   "outputs": [
    {
     "name": "stderr",
     "output_type": "stream",
     "text": [
      "  6%|█▊                           | 2415997/39763717 [01:13<23:36, 26360.87it/s]"
     ]
    }
   ],
   "source": [
    "df = pd.read_csv(f'train_{n}.csv', dtype={\"ego_id\":\"int64\", \"u\":\"int16\", \"v\":\"int16\", \"t\":\"float\", \"x1\":\"float\", \"x2\":\"float\", \"x3\":\"int16\"})\n",
    "X = []\n",
    "y = []\n",
    "for i, row in tqdm(df.iterrows(), total=df.shape[0]):\n",
    "    p1_id = str(int(row['ego_id'])) + '.' + str(int(row['u']))\n",
    "    p2_id = str(int(row['ego_id'])) + '.' + str(int(row['v']))\n",
    "    if(G.nodes[p1_id] != {} and G.nodes[p2_id] != {}):\n",
    "        X.append(G.nodes[p1_id]['features'] + G.nodes[p2_id]['features'])\n",
    "        y.append(G.edges[p1_id, p2_id]['x1'])\n",
    "    else:\n",
    "        X.append( [0]*26 )\n",
    "        y.append(0)"
   ]
  },
  {
   "cell_type": "code",
   "execution_count": null,
   "metadata": {
    "scrolled": true
   },
   "outputs": [],
   "source": [
    "# X = u_factors\n",
    "# Обучение модели\n",
    "X_train, X_test, y_train, y_test = train_test_split(X, y, test_size=0.3, random_state=0)\n",
    "linear = LinearRegression()"
   ]
  },
  {
   "cell_type": "code",
   "execution_count": null,
   "metadata": {
    "scrolled": true
   },
   "outputs": [],
   "source": [
    "%time\n",
    "linear.fit(X_train, y_train)"
   ]
  },
  {
   "cell_type": "code",
   "execution_count": null,
   "metadata": {},
   "outputs": [],
   "source": [
    "%time\n",
    "y_pred = linear.predict(X_test)"
   ]
  },
  {
   "cell_type": "code",
   "execution_count": null,
   "metadata": {
    "scrolled": true
   },
   "outputs": [],
   "source": [
    "$time\n",
    "X_train_u, X_test_u, y_train_u, y_test_u = train_test_split(X, y, test_size=0.3, random_state=0)\n",
    "random_forest = RandomForestRegressor(n_estimators=100, random_state=0)\n",
    "random_forest.fit(X_train_u, y_train_u)\n",
    "y_pred = random_forest.predict(X_test_u)"
   ]
  },
  {
   "cell_type": "code",
   "execution_count": null,
   "metadata": {
    "scrolled": true
   },
   "outputs": [],
   "source": [
    "%time\n",
    "X_train_s, X_test_s, y_train_s, y_test_s = train_test_split(X, y, test_size=0.3, random_state=0)\n",
    "sdg = SGDRegressor(n_estimators=100, random_state=0)\n",
    "sdg.fit(X_train_s, y_train_s)\n",
    "y_pred_u = sdg.predict(X_test_s)"
   ]
  },
  {
   "cell_type": "code",
   "execution_count": null,
   "metadata": {},
   "outputs": [],
   "source": [
    "# Оценка качества модели\n",
    "from sklearn.metrics import mean_squared_error\n",
    "rmse = mean_squared_error(y_test, y_pred, squared=False)\n",
    "print('RMSE:', rmse) "
   ]
  },
  {
   "cell_type": "code",
   "execution_count": 12,
   "metadata": {},
   "outputs": [
    {
     "name": "stdout",
     "output_type": "stream",
     "text": [
      "RMSE: 0.03631361365135503\n"
     ]
    }
   ],
   "source": [
    "# Оценка качества модели\n",
    "from sklearn.metrics import mean_squared_error\n",
    "rmse_u = mean_squared_error(y_test_u, y_pred_u, squared=False)\n",
    "print('RMSE:', rmse_u) "
   ]
  },
  {
   "cell_type": "code",
   "execution_count": null,
   "metadata": {},
   "outputs": [],
   "source": [
    "# Оценка качества модели\n",
    "from sklearn.metrics import mean_squared_error\n",
    "rmse_s = mean_squared_error(y_test_s, y_pred_s, squared=False)\n",
    "print('RMSE:', rmse_s) "
   ]
  },
  {
   "cell_type": "code",
   "execution_count": null,
   "metadata": {
    "ExecuteTime": {
     "end_time": "2023-05-20T21:37:21.957651900Z",
     "start_time": "2023-05-20T21:36:20.320651Z"
    },
    "collapsed": false,
    "jupyter": {
     "outputs_hidden": false
    }
   },
   "outputs": [],
   "source": [
    "df = pd.read_csv('submission.csv', dtype={\"ego_id\":\"int64\", \"u\":\"int16\", \"v\":\"int16\"})\n",
    "X = []\n",
    "for i, row in tqdm(df.iterrows(), total=df.shape[0]):\n",
    "    p1_id = str(int(row['ego_id'])) + '.' + str(int(row['u']))\n",
    "    p2_id = str(int(row['ego_id'])) + '.' + str(int(row['v']))\n",
    "    if(G1.nodes[p1_id] != {} and G1.nodes[p2_id] != {}):\n",
    "        X.append(G1.nodes[p1_id]['features'] + G1.nodes[p2_id]['features'])\n",
    "    elif(G.nodes[p1_id] != {} and G.nodes[p2_id] != {}):\n",
    "        X.append(G1.nodes[p1_id]['features'] + G1.nodes[p2_id]['features'])\n",
    "    else:\n",
    "        X.append( [0]*26 )\n",
    "        y.append(0)\n",
    "y = linear.predict(X)\n",
    "df['x1'] = y\n",
    "df.to_csv('submission_for_cup_linear.csv', index=False)"
   ]
  },
  {
   "cell_type": "code",
   "execution_count": null,
   "metadata": {
    "ExecuteTime": {
     "end_time": "2023-05-20T21:37:21.957651900Z",
     "start_time": "2023-05-20T21:36:20.320651Z"
    },
    "collapsed": false,
    "jupyter": {
     "outputs_hidden": false
    }
   },
   "outputs": [],
   "source": [
    "df = pd.read_csv('submission.csv', dtype={\"ego_id\":\"int64\", \"u\":\"int16\", \"v\":\"int16\"})\n",
    "X = []\n",
    "y = []\n",
    "for i, row in tqdm(df.iterrows(), total=df.shape[0]):\n",
    "    p1_id = str(int(row['ego_id'])) + '.' + str(int(row['u']))\n",
    "    p2_id = str(int(row['ego_id'])) + '.' + str(int(row['v']))\n",
    "    if(G1.nodes[p1_id] != {} and G1.nodes[p2_id] != {}):\n",
    "        X.append(G1.nodes[p1_id]['features'] + G1.nodes[p2_id]['features'])\n",
    "    elif(G.nodes[p1_id] != {} and G.nodes[p2_id] != {}):\n",
    "        X.append(G1.nodes[p1_id]['features'] + G1.nodes[p2_id]['features'])\n",
    "    else:\n",
    "        X.append( [0]*26 )\n",
    "        y.append(0)\n",
    "y = random_forest.predict(X)\n",
    "df['x1'] = y\n",
    "df.to_csv('submission_for_cup_forest.csv', index=False)"
   ]
  },
  {
   "cell_type": "code",
   "execution_count": null,
   "metadata": {
    "ExecuteTime": {
     "end_time": "2023-05-20T21:37:21.957651900Z",
     "start_time": "2023-05-20T21:36:20.320651Z"
    },
    "collapsed": false,
    "jupyter": {
     "outputs_hidden": false
    }
   },
   "outputs": [],
   "source": [
    "df = pd.read_csv('submission.csv', dtype={\"ego_id\":\"int64\", \"u\":\"int16\", \"v\":\"int16\"})\n",
    "X = []\n",
    "y = []\n",
    "for i, row in tqdm(df.iterrows(), total=df.shape[0]):\n",
    "    p1_id = str(int(row['ego_id'])) + '.' + str(int(row['u']))\n",
    "    p2_id = str(int(row['ego_id'])) + '.' + str(int(row['v']))\n",
    "    if(G1.nodes[p1_id] != {} and G1.nodes[p2_id] != {}):\n",
    "        X.append(G1.nodes[p1_id]['features'] + G1.nodes[p2_id]['features'])\n",
    "    elif(G.nodes[p1_id] != {} and G.nodes[p2_id] != {}):\n",
    "        X.append(G1.nodes[p1_id]['features'] + G1.nodes[p2_id]['features'])\n",
    "    else:\n",
    "        X.append( [0]*26 )\n",
    "        y.append(0)\n",
    "y = sdg.predict(X)\n",
    "df['x1'] = y\n",
    "df.to_csv('submission_for_cup_sdg.csv', index=False)"
   ]
  },
  {
   "cell_type": "code",
   "execution_count": null,
   "metadata": {},
   "outputs": [],
   "source": []
  }
 ],
 "metadata": {
  "kernelspec": {
   "display_name": "Python 3 (ipykernel)",
   "language": "python",
   "name": "python3"
  },
  "language_info": {
   "codemirror_mode": {
    "name": "ipython",
    "version": 3
   },
   "file_extension": ".py",
   "mimetype": "text/x-python",
   "name": "python",
   "nbconvert_exporter": "python",
   "pygments_lexer": "ipython3",
   "version": "3.10.9"
  }
 },
 "nbformat": 4,
 "nbformat_minor": 4
}
